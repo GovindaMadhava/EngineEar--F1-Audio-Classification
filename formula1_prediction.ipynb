{
 "cells": [
  {
   "cell_type": "code",
   "execution_count": null,
   "id": "388c61d3-a431-4210-b8c1-d9e6e77f83e2",
   "metadata": {},
   "outputs": [],
   "source": [
    "import os\n",
    "import numpy as np\n",
    "import librosa\n",
    "import pickle\n",
    "import tensorflow as tf\n",
    "import matplotlib.pyplot as plt\n",
    "\n",
    "from tensorflow.keras.models import load_model"
   ]
  },
  {
   "cell_type": "code",
   "execution_count": null,
   "id": "4946c53a-b73c-4a51-a40b-a4f632a6ecfc",
   "metadata": {},
   "outputs": [],
   "source": [
    "# ----------- USER INPUT ----------\n",
    "audio_path = \"/Volumes/Sandhya TB2/F1 MAIN/UNUSED/KickSauberFerrari_ValtteriBottas77_CircuitdeSpaFrancorchamps^Belgium_lap40.wav\" # test audio wav file\n",
    "model_dir = \"/Users/govindamadhavabs/Desktop/F1_newModels\" # path to folder containing models"
   ]
  },
  {
   "cell_type": "code",
   "execution_count": null,
   "id": "4469fb37-9821-40b9-937e-344f0d340f02",
   "metadata": {},
   "outputs": [],
   "source": [
    "# Suppress TensorFlow training logs\n",
    "os.environ['TF_CPP_MIN_LOG_LEVEL'] = '2'\n",
    "\n",
    "# Load label encoders\n",
    "with open(os.path.join(model_dir, \"label_encoders.pkl\"), \"rb\") as f:\n",
    "    label_encoders = pickle.load(f)\n",
    "\n",
    "# Load models\n",
    "team_model = load_model(os.path.join(model_dir, \"team_model_20250414_033229.keras\"))\n",
    "driver_model = load_model(os.path.join(model_dir, \"driver_model_20250414_054902.keras\"))\n",
    "track_model = load_model(os.path.join(model_dir, \"track_model_20250415_123213.keras\"))"
   ]
  },
  {
   "cell_type": "code",
   "execution_count": null,
   "id": "879887ea-6028-4778-8b92-773cdcc22901",
   "metadata": {},
   "outputs": [],
   "source": [
    "# Feature extraction\n",
    "def extract_features(audio_path, sr=22050):\n",
    "    try:\n",
    "        y, sr = librosa.load(audio_path, sr=sr)\n",
    "        features = {\n",
    "            'mfcc': librosa.feature.mfcc(y=y, sr=sr, n_mfcc=20),\n",
    "            'mel': librosa.power_to_db(librosa.feature.melspectrogram(y=y, sr=sr)),\n",
    "            'chroma': librosa.feature.chroma_stft(y=y, sr=sr)\n",
    "        }\n",
    "        combined = np.vstack([librosa.util.fix_length(v, size=128, axis=1) for v in features.values()])\n",
    "        return combined.T  # shape: (128, num_features)\n",
    "    except Exception as e:\n",
    "        print(f\"Error processing {audio_path}: {str(e)}\")\n",
    "        return None\n",
    "\n",
    "features = extract_features(audio_path)\n",
    "if features is None:\n",
    "    exit()"
   ]
  },
  {
   "cell_type": "code",
   "execution_count": null,
   "id": "ece5fd4e-3088-45f8-875d-af5d3e3ab29b",
   "metadata": {},
   "outputs": [],
   "source": [
    "# Reshape features to match model input shape\n",
    "def reshape_features(features, input_shape):\n",
    "    height, width, channels = input_shape[1], input_shape[2], input_shape[3]\n",
    "    if features.shape[0] != height or features.shape[1] != width:\n",
    "        features = librosa.util.fix_length(features, size=height, axis=0)\n",
    "        features = librosa.util.fix_length(features, size=width, axis=1)\n",
    "    return features[np.newaxis, ..., np.newaxis]\n",
    "\n",
    "X_team = reshape_features(features, team_model.input_shape)\n",
    "X_driver = reshape_features(features, driver_model.input_shape)\n",
    "X_track = reshape_features(features, track_model.input_shape)"
   ]
  },
  {
   "cell_type": "code",
   "execution_count": null,
   "id": "16a1775f-27bf-4848-971b-e1f1e74322d1",
   "metadata": {},
   "outputs": [],
   "source": [
    "# Predict top-3\n",
    "def predict_top3(model, X, encoder):\n",
    "    probs = model.predict(X, verbose=0)[0]\n",
    "    top3_indices = probs.argsort()[-3:][::-1]\n",
    "    top3_labels = encoder.inverse_transform(top3_indices)\n",
    "    top3_scores = probs[top3_indices]\n",
    "    return list(zip(top3_labels, top3_scores))\n",
    "\n",
    "team_top3 = predict_top3(team_model, X_team, label_encoders['team'])\n",
    "driver_top3 = predict_top3(driver_model, X_driver, label_encoders['driver'])\n",
    "track_top3 = predict_top3(track_model, X_track, label_encoders['track'])"
   ]
  },
  {
   "cell_type": "code",
   "execution_count": null,
   "id": "ac606892-c9fb-4668-b745-d8b755561fad",
   "metadata": {},
   "outputs": [],
   "source": [
    "# --- PYIN pitch extraction ---\n",
    "y, sr = librosa.load(audio_path, sr=None)\n",
    "f0, voiced_flag, voiced_probs = librosa.pyin(y, fmin=librosa.note_to_hz('C2'), fmax=librosa.note_to_hz('C7'))\n",
    "times = librosa.times_like(f0, sr=sr)"
   ]
  },
  {
   "cell_type": "code",
   "execution_count": null,
   "id": "462aaf99-2f97-4cc7-810c-7bc625c4057b",
   "metadata": {},
   "outputs": [],
   "source": [
    "# --- PLOT dialog box with pitch + predictions ---\n",
    "fig, ax = plt.subplots(2, 1, figsize=(12, 6), gridspec_kw={'height_ratios': [2, 1]})\n",
    "\n",
    "# Pitch plot\n",
    "ax[0].plot(times, f0, label='Pitch (f0)', color='blue')\n",
    "ax[0].set_title(\"Pitch Contour (PYIN)\", fontsize=14)\n",
    "ax[0].set_xlabel(\"Time (s)\")\n",
    "ax[0].set_ylabel(\"Frequency (Hz)\")\n",
    "ax[0].grid(True)\n",
    "\n",
    "# Prediction table\n",
    "ax[1].axis('off')\n",
    "columns = [\"Team\", \"Driver\", \"Track\"]\n",
    "rows = []\n",
    "for i in range(3):\n",
    "    t = f\"{team_top3[i][0]} ({team_top3[i][1]*100:.2f}%)\"\n",
    "    d = f\"{driver_top3[i][0]} ({driver_top3[i][1]*100:.2f}%)\"\n",
    "    tr = f\"{track_top3[i][0]} ({track_top3[i][1]*100:.2f}%)\"\n",
    "    rows.append([t, d, tr])\n",
    "\n",
    "table = ax[1].table(cellText=rows, colLabels=columns, loc='center', cellLoc='left')\n",
    "table.auto_set_font_size(False)\n",
    "table.set_fontsize(10)\n",
    "table.scale(1.2, 1.5)\n",
    "\n",
    "plt.tight_layout()\n",
    "plt.show()"
   ]
  },
  {
   "cell_type": "code",
   "execution_count": null,
   "id": "9b9f8a28-4573-46f5-a5e7-d622fb274644",
   "metadata": {},
   "outputs": [],
   "source": []
  }
 ],
 "metadata": {
  "kernelspec": {
   "display_name": "Python 3 (ipykernel)",
   "language": "python",
   "name": "python3"
  },
  "language_info": {
   "codemirror_mode": {
    "name": "ipython",
    "version": 3
   },
   "file_extension": ".py",
   "mimetype": "text/x-python",
   "name": "python",
   "nbconvert_exporter": "python",
   "pygments_lexer": "ipython3",
   "version": "3.12.1"
  }
 },
 "nbformat": 4,
 "nbformat_minor": 5
}
